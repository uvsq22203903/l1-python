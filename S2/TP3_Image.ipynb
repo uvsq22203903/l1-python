{
 "cells": [
  {
   "attachments": {},
   "cell_type": "markdown",
   "metadata": {},
   "source": [
    "# Questions de cours \n",
    "\n",
    "1.Qu'est-ce qu'un pixel ?\n",
    "\n",
    "plus petit element d'une image que l'on peut avoir; il n'a qu'une seule couleur\n",
    "\n",
    "2.Quel format de stockage utilise-t-on pour stocker un pixel ?\n",
    "\n",
    "RGB --> 255 pour chaque, donc 8bits (24bits : ancien format)\n",
    "Nouveau format : RGBA\n",
    "A:luminensce de 0 à 255 (donne plus de contraste)\n",
    "\n",
    "3.Donner la suite de 0 et de 1 permettant de stocker une image de 2 fois 2 qui part du noir en haut à gauche\n",
    "et devient plus rouge en allant à doite et plus bleu en allant vers le bas.\n",
    "\n",
    "plus rouge en allant à droite"
   ]
  },
  {
   "cell_type": "markdown",
   "metadata": {},
   "source": [
    "# Matrices"
   ]
  },
  {
   "cell_type": "markdown",
   "metadata": {},
   "source": [
    "Créer une matrice avec 3 lignes et 4 colonnes"
   ]
  },
  {
   "cell_type": "code",
   "execution_count": null,
   "metadata": {},
   "outputs": [],
   "source": [
    "#définir la matrice sans utiliser de boucles comme une liste de liste\n",
    "mat_liste = [[0, 0, 0],[0,0,0],[0,0,0]]\n",
    "\n",
    "#définir la matrice comme un numpy array à deux dimensions\n",
    "import numpy as np\n",
    "mat_numpy = np.array(mat_liste)\n",
    "print(mat_numpy)"
   ]
  },
  {
   "attachments": {},
   "cell_type": "markdown",
   "metadata": {},
   "source": [
    "Afficher le nombre de lignes et de colonnes de `mat_liste` et de `mat_numpy`."
   ]
  },
  {
   "cell_type": "code",
   "execution_count": null,
   "metadata": {},
   "outputs": [],
   "source": []
  },
  {
   "attachments": {},
   "cell_type": "markdown",
   "metadata": {},
   "source": [
    "Remplir `mat_numpy` de 9 en utilisant deux boucles sur les index de la matrice."
   ]
  },
  {
   "cell_type": "code",
   "execution_count": null,
   "metadata": {},
   "outputs": [],
   "source": [
    "def rempli9(matrice):\n",
    "    pass\n",
    "\n",
    "rempli9(mat_numpy)\n",
    "print(mat_numpy)"
   ]
  },
  {
   "attachments": {},
   "cell_type": "markdown",
   "metadata": {},
   "source": [
    "Maintenant, remplir la matrice de 8 en utilisant les fonctions spécifiques de numpy, sans faire de boucle. Consulter la documentation de numpy pour trouver une solution."
   ]
  },
  {
   "cell_type": "code",
   "execution_count": null,
   "metadata": {},
   "outputs": [],
   "source": [
    "def rempli8(matrice):\n",
    "    pass\n",
    "\n",
    "rempli8(mat_numpy)\n",
    "print(mat_numpy)"
   ]
  },
  {
   "attachments": {},
   "cell_type": "markdown",
   "metadata": {},
   "source": [
    "Créer une liste de taille 50 qui ne contient que des 3, en utilisant la compréhension de liste.\n",
    "Créer ensuite une matrice comme liste de listes dont la première ligne contient des 1, la deuxième des 2 ..."
   ]
  },
  {
   "cell_type": "code",
   "execution_count": null,
   "metadata": {},
   "outputs": [],
   "source": [
    "\n"
   ]
  },
  {
   "cell_type": "markdown",
   "metadata": {},
   "source": [
    "# Matrice de Pixels"
   ]
  },
  {
   "attachments": {},
   "cell_type": "markdown",
   "metadata": {},
   "source": [
    "On va importer la librairie PIL pour charger et afficher des images. On importe aussi tkinter pour l'interface d'ouverture de fichier."
   ]
  },
  {
   "cell_type": "code",
   "execution_count": null,
   "metadata": {},
   "outputs": [],
   "source": [
    "import PIL as pil\n",
    "from PIL import Image\n",
    "from PIL import ImageTk "
   ]
  },
  {
   "attachments": {},
   "cell_type": "markdown",
   "metadata": {},
   "source": [
    "La fonction `save` permet de stocker la matrice de pixels passée en paramètre `matPix` dans un fichier spécifié par `filename`.\n",
    "La fonction `load` renvoie la matrice représentant l'image stockée dans le fichier `filename`. "
   ]
  },
  {
   "cell_type": "code",
   "execution_count": null,
   "metadata": {},
   "outputs": [],
   "source": [
    "def save(matPix, filename):\n",
    "    Image.fromarray(matPix).save(filename)\n",
    "\n",
    "def load(filename):\n",
    "    return np.array(pil.Image.open(filename))\n",
    "    "
   ]
  },
  {
   "cell_type": "markdown",
   "metadata": {},
   "source": [
    "Créer une matrice de pixels de taille 100x100 ainsi qu'une fonction qui met à vert les pixels de la moitié gauche de l'image et à bleu les pixels de moitié droite.\n",
    "Afin de visualiser l'image obtenue, on utilisera la fonction `save` et on ouvrira le fichier ainsi généré. On utilisera ensuite la méthode show de PIL."
   ]
  },
  {
   "cell_type": "code",
   "execution_count": null,
   "metadata": {},
   "outputs": [],
   "source": [
    "#definir une nouvelle matrice 100x100\n",
    "matVB= np.empty((100,100,3),dtype=np.uint8)\n",
    "\n",
    "#utiliser une double boucle\n",
    "def rempliVB(matrice):\n",
    "    pass\n",
    "\n",
    "#alternativement, utiliser les slices de numpy\n",
    "\n",
    "    \n",
    "rempliVB(matVB)\n",
    "save(matVB,\"vertbleu.png\")"
   ]
  },
  {
   "attachments": {},
   "cell_type": "markdown",
   "metadata": {},
   "source": [
    "En vous servant de la fonction `load`, calculer le nombre de pixels dans une image `.bmp` de votre choix, puis calculer la taille de l'image en octets. Comparer avec la taille donnée par votre machine."
   ]
  },
  {
   "cell_type": "code",
   "execution_count": null,
   "metadata": {},
   "outputs": [],
   "source": [
    "mat=load(\"test.bmp\")\n"
   ]
  },
  {
   "attachments": {},
   "cell_type": "markdown",
   "metadata": {},
   "source": [
    "Modifier l'image que vous avez créé précédemment en ajoutant un rectangle noir au milieu de l'image."
   ]
  },
  {
   "cell_type": "code",
   "execution_count": null,
   "metadata": {},
   "outputs": [],
   "source": [
    "matrice=load(\"vertbleu.png\")\n",
    "\n",
    "def ajouteCarreNoir(mat):\n",
    "    pass\n",
    "\n",
    "ajouteCarreNoir(matrice)\n",
    "save(matrice,\"vertbleumodif.png\")"
   ]
  },
  {
   "cell_type": "markdown",
   "metadata": {},
   "source": [
    "De la même manière ajouter un filtre qui ne conserve que la composante verte d'une image."
   ]
  },
  {
   "cell_type": "code",
   "execution_count": null,
   "metadata": {},
   "outputs": [],
   "source": [
    "matrice=load(\"cheetah.png\")\n",
    "\n",
    "#avec une boucle\n",
    "def filtre_vert(mat):\n",
    "    pass\n",
    "\n",
    "#avec les slices de numpy\n",
    "\n",
    "\n",
    "filtre_vert(matrice)\n",
    "save(matrice,\"filtre.png\")"
   ]
  },
  {
   "cell_type": "markdown",
   "metadata": {},
   "source": [
    "Créer une méthode qui permet d'afficher le négatif de l'image (on inverse la luminosité)."
   ]
  },
  {
   "cell_type": "code",
   "execution_count": null,
   "metadata": {},
   "outputs": [],
   "source": [
    "matrice=load(\"cheetah.png\")\n",
    "\n",
    "def negatif(mat):   \n",
    "    pass\n",
    "\n",
    "negatif(matrice)\n",
    "save(matrice,\"negatif.png\")"
   ]
  },
  {
   "cell_type": "markdown",
   "metadata": {},
   "source": [
    "Créer une méthode qui permet d'afficher le symétrique de l'image par rapport à la droite verticale en son milieu."
   ]
  },
  {
   "cell_type": "code",
   "execution_count": null,
   "metadata": {},
   "outputs": [],
   "source": [
    "matrice=load(\"cheetah.png\")\n",
    "\n",
    "def symetrique(mat):   \n",
    "    pass\n",
    "\n",
    "save(symetrique(matrice),\"sym.png\")"
   ]
  }
 ],
 "metadata": {
  "kernelspec": {
   "display_name": "base",
   "language": "python",
   "name": "python3"
  },
  "language_info": {
   "codemirror_mode": {
    "name": "ipython",
    "version": 3
   },
   "file_extension": ".py",
   "mimetype": "text/x-python",
   "name": "python",
   "nbconvert_exporter": "python",
   "pygments_lexer": "ipython3",
   "version": "3.9.12"
  },
  "vscode": {
   "interpreter": {
    "hash": "47481f47f7b61395eb605249209a010c912296e2f5b31a2bd68af4ef30fca02e"
   }
  }
 },
 "nbformat": 4,
 "nbformat_minor": 4
}
